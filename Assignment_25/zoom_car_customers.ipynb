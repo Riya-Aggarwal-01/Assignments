{
 "cells": [
  {
   "cell_type": "code",
   "execution_count": 0,
   "metadata": {
    "application/vnd.databricks.v1+cell": {
     "cellMetadata": {
      "byteLimit": 2048000,
      "rowLimit": 10000
     },
     "inputWidgets": {},
     "nuid": "f9691cda-ed5e-4fdd-b479-54ec8e9a6d98",
     "showTitle": false,
     "tableResultSettingsMap": {},
     "title": ""
    }
   },
   "outputs": [],
   "source": [
    "dbutils.widgets.text(\"customer_date\",\"2024-07-06\")\n",
    "customer_date = dbutils.widgets.get(\"customer_date\")"
   ]
  },
  {
   "cell_type": "code",
   "execution_count": 0,
   "metadata": {
    "application/vnd.databricks.v1+cell": {
     "cellMetadata": {
      "byteLimit": 2048000,
      "rowLimit": 10000
     },
     "inputWidgets": {},
     "nuid": "645ba5c3-2a03-4ce5-826f-e39c2d16236d",
     "showTitle": false,
     "tableResultSettingsMap": {},
     "title": ""
    }
   },
   "outputs": [],
   "source": [
    "from pyspark.sql.functions import *\n",
    "customer_data=f\"/Volumes/workspace/zoom_car/zoom_car/zoom_car_customers_{customer_date}.json\"\n",
    "customer_df = spark.read.option(\"multiline\",\"true\").json(customer_data)\n",
    "customer_df.display()"
   ]
  },
  {
   "cell_type": "code",
   "execution_count": 0,
   "metadata": {
    "application/vnd.databricks.v1+cell": {
     "cellMetadata": {
      "byteLimit": 2048000,
      "rowLimit": 10000
     },
     "inputWidgets": {},
     "nuid": "445b0287-b04c-41db-94a2-efb1d173c866",
     "showTitle": false,
     "tableResultSettingsMap": {},
     "title": ""
    }
   },
   "outputs": [],
   "source": [
    "def isunique(customer_df,column):\n",
    "    null_count = customer_df.filter(col(column).isNotNull()).count()\n",
    "    if null_count > 0:\n",
    "        customer_df = customer_df.filter(col(column).isNotNull())\n",
    "        return customer_df\n",
    "    else:\n",
    "        return customer_df\n",
    "\n",
    "df1=isunique(customer_df,\"customer_id\")\n",
    "df2=isunique(df1,\"email\")\n",
    "df3=isunique(df2,\"name\")\n",
    "df3.display()"
   ]
  },
  {
   "cell_type": "code",
   "execution_count": 0,
   "metadata": {
    "application/vnd.databricks.v1+cell": {
     "cellMetadata": {
      "byteLimit": 2048000,
      "rowLimit": 10000
     },
     "inputWidgets": {},
     "nuid": "195dad30-a6cf-4f4b-8a45-15881df354b3",
     "showTitle": false,
     "tableResultSettingsMap": {},
     "title": ""
    }
   },
   "outputs": [],
   "source": [
    "from pyspark.sql.functions import col, when\n",
    "email_pattern = r\"^[a-zA-Z0-9._%+-]+@[a-zA-Z0-9.-]+\\.[a-zA-Z]{2,}$\"\n",
    "clean_customer_df = df3.filter(col(\"email\").rlike(email_pattern))\n",
    "display(clean_customer_df)"
   ]
  },
  {
   "cell_type": "code",
   "execution_count": 0,
   "metadata": {
    "application/vnd.databricks.v1+cell": {
     "cellMetadata": {
      "byteLimit": 2048000,
      "rowLimit": 10000
     },
     "inputWidgets": {},
     "nuid": "bddda758-1a79-4830-abc0-7f3ac1b636e0",
     "showTitle": false,
     "tableResultSettingsMap": {},
     "title": ""
    }
   },
   "outputs": [],
   "source": [
    "valid_statuses = [\"active\", \"inactive\"]\n",
    "clean_customer_df = clean_customer_df.filter(col(\"status\").isin(valid_statuses))\n",
    "clean_customer_df.display()"
   ]
  },
  {
   "cell_type": "code",
   "execution_count": 0,
   "metadata": {
    "application/vnd.databricks.v1+cell": {
     "cellMetadata": {
      "byteLimit": 2048000,
      "rowLimit": 10000
     },
     "inputWidgets": {},
     "nuid": "3fca2098-092f-4c00-87c2-44e7884b1adc",
     "showTitle": false,
     "tableResultSettingsMap": {},
     "title": ""
    }
   },
   "outputs": [],
   "source": [
    "valid_df = clean_customer_df.filter(\n",
    "    (length(regexp_replace(col(\"phone_number\"), \"\\\\D+\", \"\")) == 10) &\n",
    "    (~regexp_replace(col(\"phone_number\"), \"\\\\D+\", \"\").startswith(\"0\"))\n",
    ")\n",
    "\n",
    "valid_df.display()"
   ]
  },
  {
   "cell_type": "code",
   "execution_count": 0,
   "metadata": {
    "application/vnd.databricks.v1+cell": {
     "cellMetadata": {
      "byteLimit": 2048000,
      "rowLimit": 10000
     },
     "inputWidgets": {},
     "nuid": "fd647abb-8b86-451f-a8ae-256bf9a4c363",
     "showTitle": false,
     "tableResultSettingsMap": {},
     "title": ""
    }
   },
   "outputs": [],
   "source": [
    "df_with_date = clean_customer_df.withColumn(\n",
    "    \"signup_date\",\n",
    "    to_date(col(\"signup_date\"), \"yyyy-MM-dd\")\n",
    ")\n",
    "\n",
    "# Calculate tenure in days, months, and years\n",
    "tenure_df = df_with_date.withColumn(\n",
    "    \"tenure_days\",\n",
    "    datediff(current_date(), col(\"signup_date\"))\n",
    ").withColumn(\n",
    "    \"tenure_months\",\n",
    "    floor(months_between(current_date(), col(\"signup_date\")))\n",
    ").withColumn(\n",
    "    \"tenure_years\",\n",
    "    floor(months_between(current_date(), col(\"signup_date\")) / 12)\n",
    ")\n",
    "\n",
    "tenure_df.display()"
   ]
  },
  {
   "cell_type": "code",
   "execution_count": 0,
   "metadata": {
    "application/vnd.databricks.v1+cell": {
     "cellMetadata": {
      "byteLimit": 2048000,
      "rowLimit": 10000
     },
     "inputWidgets": {},
     "nuid": "5ecfe71c-6e50-4bba-8087-6548995161e7",
     "showTitle": false,
     "tableResultSettingsMap": {},
     "title": ""
    }
   },
   "outputs": [],
   "source": [
    "# tenure_df.write \\\n",
    "#     .format(\"delta\") \\\n",
    "#     .mode(\"overwrite\") \\\n",
    "#     .saveAsTable(\"default.zoom_car_booking\")"
   ]
  }
 ],
 "metadata": {
  "application/vnd.databricks.v1+notebook": {
   "computePreferences": null,
   "dashboards": [],
   "environmentMetadata": {
    "base_environment": "",
    "environment_version": "2"
   },
   "inputWidgetPreferences": null,
   "language": "python",
   "notebookMetadata": {
    "pythonIndentUnit": 4
   },
   "notebookName": "zoom_car_customers",
   "widgets": {
    "customer_date": {
     "currentValue": "2024-07-20",
     "nuid": "82f7b0f9-c4d9-45fe-8478-28dad2f95a4e",
     "typedWidgetInfo": {
      "autoCreated": false,
      "defaultValue": "2024-07-06",
      "label": null,
      "name": "customer_date",
      "options": {
       "widgetDisplayType": "Text",
       "validationRegex": null
      },
      "parameterDataType": "String"
     },
     "widgetInfo": {
      "widgetType": "text",
      "defaultValue": "2024-07-06",
      "label": null,
      "name": "customer_date",
      "options": {
       "widgetType": "text",
       "autoCreated": null,
       "validationRegex": null
      }
     }
    }
   }
  },
  "language_info": {
   "name": "python"
  }
 },
 "nbformat": 4,
 "nbformat_minor": 0
}