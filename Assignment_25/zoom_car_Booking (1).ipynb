{
 "cells": [
  {
   "cell_type": "code",
   "execution_count": 0,
   "metadata": {
    "application/vnd.databricks.v1+cell": {
     "cellMetadata": {
      "byteLimit": 2048000,
      "rowLimit": 10000
     },
     "inputWidgets": {},
     "nuid": "2477a060-ae7c-498e-a008-b57a2510bf3a",
     "showTitle": false,
     "tableResultSettingsMap": {},
     "title": ""
    }
   },
   "outputs": [],
   "source": [
    "dbutils.widgets.text(\"booking_date\", \"2024-07-06\")\n",
    "booking_date = dbutils.widgets.get(\"booking_date\") "
   ]
  },
  {
   "cell_type": "code",
   "execution_count": 0,
   "metadata": {
    "application/vnd.databricks.v1+cell": {
     "cellMetadata": {
      "byteLimit": 2048000,
      "rowLimit": 10000
     },
     "inputWidgets": {},
     "nuid": "f15e0c35-97c2-499b-9dbf-35f39f28038e",
     "showTitle": false,
     "tableResultSettingsMap": {},
     "title": ""
    }
   },
   "outputs": [],
   "source": [
    "from pyspark.sql.functions import *\n",
    "booking_data=f\"/Volumes/workspace/zoom_car/zoom_car/zoom_car_bookings_{booking_date}.json\""
   ]
  },
  {
   "cell_type": "code",
   "execution_count": 0,
   "metadata": {
    "application/vnd.databricks.v1+cell": {
     "cellMetadata": {
      "byteLimit": 2048000,
      "rowLimit": 10000
     },
     "inputWidgets": {},
     "nuid": "27aa7aa6-0fb8-41ea-83aa-e8ce9163df75",
     "showTitle": false,
     "tableResultSettingsMap": {},
     "title": ""
    }
   },
   "outputs": [],
   "source": [
    "booking_df = spark.read.option(\"multiline\",\"true\").json(booking_data)\n"
   ]
  },
  {
   "cell_type": "code",
   "execution_count": 0,
   "metadata": {
    "application/vnd.databricks.v1+cell": {
     "cellMetadata": {
      "byteLimit": 2048000,
      "rowLimit": 10000
     },
     "inputWidgets": {},
     "nuid": "dbbef74b-a62f-48b0-9699-a7d8c6bae9af",
     "showTitle": false,
     "tableResultSettingsMap": {},
     "title": ""
    }
   },
   "outputs": [],
   "source": [
    "\n",
    "def isComplete(df,colname):\n",
    "        df_clean = df.filter(col(colname).isNotNull())\n",
    "        return df_clean"
   ]
  },
  {
   "cell_type": "code",
   "execution_count": 0,
   "metadata": {
    "application/vnd.databricks.v1+cell": {
     "cellMetadata": {
      "byteLimit": 2048000,
      "rowLimit": 10000
     },
     "inputWidgets": {},
     "nuid": "2f56653b-999b-4219-a5f0-d2042eab87d1",
     "showTitle": false,
     "tableResultSettingsMap": {},
     "title": ""
    }
   },
   "outputs": [],
   "source": [
    "booking_df = isComplete(booking_df, \"booking_id\")\n",
    "booking_df = isComplete(booking_df, \"customer_id\")\n",
    "booking_df = isComplete(booking_df, \"car_id\")\n",
    "booking_df = isComplete(booking_df, \"booking_date\")"
   ]
  },
  {
   "cell_type": "code",
   "execution_count": 0,
   "metadata": {
    "application/vnd.databricks.v1+cell": {
     "cellMetadata": {
      "byteLimit": 2048000,
      "rowLimit": 10000
     },
     "inputWidgets": {},
     "nuid": "a6d13092-bbbb-409a-9a7d-5223c0cb2886",
     "showTitle": false,
     "tableResultSettingsMap": {},
     "title": ""
    }
   },
   "outputs": [],
   "source": [
    "booking_df = booking_df.withColumn(\"valid_date\", to_date(\"booking_date\", \"yyyy-MM-dd\"))\n",
    "booking_df = booking_df.filter(col(\"valid_date\").isNotNull())\n",
    "booking_df = booking_df.drop(\"valid_date\")"
   ]
  },
  {
   "cell_type": "code",
   "execution_count": 0,
   "metadata": {
    "application/vnd.databricks.v1+cell": {
     "cellMetadata": {
      "byteLimit": 2048000,
      "rowLimit": 10000
     },
     "inputWidgets": {},
     "nuid": "dafea733-73c0-4be2-97c9-954a92c9d25c",
     "showTitle": false,
     "tableResultSettingsMap": {},
     "title": ""
    }
   },
   "outputs": [],
   "source": [
    "valid_statuses = [\"complete\", \"cancelled\", \"in_progress\"]\n",
    "booking_df = booking_df.filter(col(\"status\").isin(valid_statuses))"
   ]
  },
  {
   "cell_type": "code",
   "execution_count": 0,
   "metadata": {
    "application/vnd.databricks.v1+cell": {
     "cellMetadata": {
      "byteLimit": 2048000,
      "rowLimit": 10000
     },
     "inputWidgets": {},
     "nuid": "33f4065f-b528-4412-887e-c3f63af992f3",
     "showTitle": false,
     "tableResultSettingsMap": {},
     "title": ""
    }
   },
   "outputs": [],
   "source": [
    "booking_df = booking_df.withColumn(\"start_ts\", to_timestamp(\"start_time\"))\n",
    "booking_df = booking_df.withColumn(\"end_ts\", to_timestamp(\"end_time\"))\n",
    "booking_df = booking_df.withColumn(\"start_date\", date_format(col(\"start_ts\"), \"yyyy-MM-dd\"))\n",
    "booking_df = booking_df.withColumn(\"start_time_only\", date_format(col(\"start_ts\"), \"HH:mm:ss\"))\n",
    "booking_df = booking_df.withColumn(\"end_date\", date_format(col(\"end_ts\"), \"yyyy-MM-dd\"))\n",
    "booking_df = booking_df.withColumn(\"end_time_only\", date_format(col(\"end_ts\"), \"HH:mm:ss\"))"
   ]
  },
  {
   "cell_type": "code",
   "execution_count": 0,
   "metadata": {
    "application/vnd.databricks.v1+cell": {
     "cellMetadata": {
      "byteLimit": 2048000,
      "rowLimit": 10000
     },
     "inputWidgets": {},
     "nuid": "61e01cc2-e680-409d-bc2d-9dad0237e2de",
     "showTitle": false,
     "tableResultSettingsMap": {},
     "title": ""
    }
   },
   "outputs": [],
   "source": [
    "booking_df = booking_df.withColumn(\"duration_minutes\", round((col(\"end_ts\").cast(\"long\") - col(\"start_ts\").cast(\"long\")) / 60, 2))"
   ]
  },
  {
   "cell_type": "code",
   "execution_count": 0,
   "metadata": {
    "application/vnd.databricks.v1+cell": {
     "cellMetadata": {
      "byteLimit": 2048000,
      "rowLimit": 10000
     },
     "inputWidgets": {},
     "nuid": "81175758-4505-4493-a284-d203c59aa318",
     "showTitle": false,
     "tableResultSettingsMap": {},
     "title": ""
    }
   },
   "outputs": [],
   "source": [
    "# booking_df.write \\\n",
    "#     .format(\"delta\") \\\n",
    "#     .mode(\"overwrite\") \\\n",
    "#     .saveAsTable(\"default.zoom_car_bookings1\")"
   ]
  },
  {
   "cell_type": "code",
   "execution_count": 0,
   "metadata": {
    "application/vnd.databricks.v1+cell": {
     "cellMetadata": {
      "byteLimit": 2048000,
      "rowLimit": 10000
     },
     "inputWidgets": {},
     "nuid": "7849b152-9392-4fc8-ab72-5aa116413a62",
     "showTitle": false,
     "tableResultSettingsMap": {},
     "title": ""
    }
   },
   "outputs": [],
   "source": [
    "from delta.tables import DeltaTable"
   ]
  },
  {
   "cell_type": "code",
   "execution_count": 0,
   "metadata": {
    "application/vnd.databricks.v1+cell": {
     "cellMetadata": {
      "byteLimit": 2048000,
      "rowLimit": 10000
     },
     "inputWidgets": {},
     "nuid": "d68ab00b-4b7c-4511-b4e9-5d2473ec8a31",
     "showTitle": false,
     "tableResultSettingsMap": {},
     "title": ""
    }
   },
   "outputs": [],
   "source": [
    "delta_table = DeltaTable.forName(spark, \"default.zoom_car_bookings1\")\n",
    "cancelled_df = booking_df.filter(col(\"status\") == \"cancelled\")\n",
    "active_df = booking_df.filter(col(\"status\") != \"cancelled\")\n",
    "delta_table.alias(\"target\").merge(\n",
    "    cancelled_df.alias(\"source\"),\n",
    "    \"target.booking_id = source.booking_id AND target.customer_id = source.customer_id\"\n",
    ").whenMatchedDelete().execute()\n",
    "delta_table.alias(\"target\").merge(\n",
    "    active_df.alias(\"source\"),\n",
    "    \"target.booking_id = source.booking_id AND target.customer_id = source.customer_id\"\n",
    ").whenMatchedUpdateAll() \\\n",
    " .whenNotMatchedInsertAll() \\\n",
    " .execute()"
   ]
  },
  {
   "cell_type": "code",
   "execution_count": 0,
   "metadata": {
    "application/vnd.databricks.v1+cell": {
     "cellMetadata": {
      "byteLimit": 2048000,
      "rowLimit": 10000
     },
     "inputWidgets": {},
     "nuid": "27d8a46f-975c-4fc6-a99d-dd23a6fbca80",
     "showTitle": false,
     "tableResultSettingsMap": {
      "0": {
       "dataGridStateBlob": null,
       "filterBlob": "{\"version\":1,\"filterGroups\":[],\"syncTimestamp\":1752735579123}",
       "queryPlanFiltersBlob": "[]",
       "tableResultIndex": 0
      }
     },
     "title": ""
    }
   },
   "outputs": [],
   "source": [
    "df = spark.table(\"default.zoom_car_bookings1\")\n",
    "df.display()"
   ]
  }
 ],
 "metadata": {
  "application/vnd.databricks.v1+notebook": {
   "computePreferences": null,
   "dashboards": [],
   "environmentMetadata": {
    "base_environment": "",
    "environment_version": "2"
   },
   "inputWidgetPreferences": null,
   "language": "python",
   "notebookMetadata": {
    "pythonIndentUnit": 4
   },
   "notebookName": "zoom_car_Booking",
   "widgets": {
    "booking_date": {
     "currentValue": "2025-07-19",
     "nuid": "60b00db6-a392-4f34-b077-8ff29477a980",
     "typedWidgetInfo": {
      "autoCreated": false,
      "defaultValue": "2024-07-06",
      "label": null,
      "name": "booking_date",
      "options": {
       "widgetDisplayType": "Text",
       "validationRegex": null
      },
      "parameterDataType": "String"
     },
     "widgetInfo": {
      "widgetType": "text",
      "defaultValue": "2024-07-06",
      "label": null,
      "name": "booking_date",
      "options": {
       "widgetType": "text",
       "autoCreated": null,
       "validationRegex": null
      }
     }
    }
   }
  },
  "language_info": {
   "name": "python"
  }
 },
 "nbformat": 4,
 "nbformat_minor": 0
}